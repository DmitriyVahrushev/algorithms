{
 "cells": [
  {
   "cell_type": "markdown",
   "metadata": {},
   "source": [
    "### 20k20.\n",
    "Владислав заметил, что в 20202020-м году целых две пары одинаковых символов - 22 и 00.\n",
    "На основании этого он возненавидел цифры 22 и 00, а также ситуацию, когда в году есть одинаковые цифры.\n",
    "Сейчас Владислав ждет следующего года,\n",
    "в котором нет цифр 22 и 00, а также все цифры попарно различны.\n",
    "Посчитайте, в каком году это случится первый раз?"
   ]
  },
  {
   "cell_type": "code",
   "execution_count": 29,
   "metadata": {},
   "outputs": [
    {
     "name": "stdin",
     "output_type": "stream",
     "text": [
      " 2020\n"
     ]
    },
    {
     "name": "stdout",
     "output_type": "stream",
     "text": [
      "3145\n"
     ]
    }
   ],
   "source": [
    "year = int(input())\n",
    "if year >= 100000000:\n",
    "        print(-1)\n",
    "else:\n",
    "    ans  = -1\n",
    "    for i in range(year + 1, 1000000000):\n",
    "        cur_year = str(i)\n",
    "        if ('2' in cur_year) or ('0' in cur_year):\n",
    "            continue\n",
    "        #hasnt_doubles = all([cur_year.count(i) == 1 for i in cur_year])\n",
    "        t = 0\n",
    "        for digit in cur_year:\n",
    "            if cur_year.count(digit) != 1:\n",
    "                t = 1\n",
    "                break\n",
    "        if t:\n",
    "            continue\n",
    "        ans = cur_year\n",
    "        break\n",
    "    print(ans)"
   ]
  },
  {
   "cell_type": "code",
   "execution_count": 18,
   "metadata": {},
   "outputs": [
    {
     "data": {
      "text/plain": [
       "True"
      ]
     },
     "execution_count": 18,
     "metadata": {},
     "output_type": "execute_result"
    }
   ],
   "source": [
    "k = '312'\n",
    "t = all([k.count(i) == 1 for i in k])\n",
    "t"
   ]
  },
  {
   "cell_type": "markdown",
   "metadata": {},
   "source": [
    "Есть ли число?\n",
    "\n",
    "В этой задаче вам надо будет много раз проверять, что число есть в данном массиве."
   ]
  },
  {
   "cell_type": "code",
   "execution_count": null,
   "metadata": {},
   "outputs": [],
   "source": [
    "n, m = map(int, input().split())\n",
    "arr = set(map(int, input().split()))\n",
    "for i in range(m):\n",
    "    k = int(input())\n",
    "    if k in arr:\n",
    "        print('YES')\n",
    "    else:\n",
    "        print('NO')"
   ]
  }
 ],
 "metadata": {
  "kernelspec": {
   "display_name": "Python 3",
   "language": "python",
   "name": "python3"
  },
  "language_info": {
   "codemirror_mode": {
    "name": "ipython",
    "version": 3
   },
   "file_extension": ".py",
   "mimetype": "text/x-python",
   "name": "python",
   "nbconvert_exporter": "python",
   "pygments_lexer": "ipython3",
   "version": "3.7.6"
  }
 },
 "nbformat": 4,
 "nbformat_minor": 4
}
